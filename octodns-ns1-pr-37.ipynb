{
 "cells": [
  {
   "cell_type": "code",
   "execution_count": 8,
   "id": "265fc49f-0b4a-449f-b566-f74c6b0e2449",
   "metadata": {
    "tags": []
   },
   "outputs": [],
   "source": [
    "from base64 import b64decode\n",
    "from collections import defaultdict\n",
    "from os import environ\n",
    "from pprint import pprint\n",
    "\n",
    "from dnslib import DNSRecord\n",
    "from yaml import safe_load\n",
    "\n",
    "from survey import RipeClient"
   ]
  },
  {
   "cell_type": "code",
   "execution_count": 2,
   "id": "eacf7fbc-2fcc-428e-9aa1-388c9bd44775",
   "metadata": {
    "tags": []
   },
   "outputs": [],
   "source": [
    "%reload_ext autoreload\n",
    "%autoreload 2\n",
    "%matplotlib inline"
   ]
  },
  {
   "cell_type": "code",
   "execution_count": 24,
   "id": "6d7e70e3-dee9-4f42-8aaa-4259eed6c612",
   "metadata": {
    "tags": []
   },
   "outputs": [],
   "source": [
    "# as-is\n",
    "main_measurement_id = \"51339831\"\n",
    "# with #37\n",
    "pr_measurement_id = \"51339896\""
   ]
  },
  {
   "cell_type": "code",
   "execution_count": 12,
   "id": "2fa4d9db-58aa-4fea-9cbd-6099ef5f8fd7",
   "metadata": {
    "tags": []
   },
   "outputs": [],
   "source": [
    "#import logging\n",
    "#logging.basicConfig(level=logging.DEBUG)"
   ]
  },
  {
   "cell_type": "code",
   "execution_count": 13,
   "id": "2f43e2a3-fb45-4076-928e-274e90ae2f3e",
   "metadata": {
    "tags": []
   },
   "outputs": [],
   "source": [
    "ripe = RipeClient()"
   ]
  },
  {
   "cell_type": "code",
   "execution_count": 35,
   "id": "9db63123-10ad-411c-9ad2-aec9a0fc68aa",
   "metadata": {
    "tags": []
   },
   "outputs": [],
   "source": [
    "main_results = ripe.measurement_results(main_measurement_id)\n",
    "pr_results = ripe.measurement_results(pr_measurement_id)"
   ]
  },
  {
   "cell_type": "code",
   "execution_count": 36,
   "id": "5ed7f357-0ed1-4a1c-9ff2-1648f467d3f3",
   "metadata": {
    "tags": []
   },
   "outputs": [
    {
     "name": "stdout",
     "output_type": "stream",
     "text": [
      "{'103.231.91.78': 'ocean',\n",
      " '137.74.0.47': 'eu_E',\n",
      " '138.199.57.66': 'na',\n",
      " '138.199.57.67': 'na',\n",
      " '146.59.70.106': 'eu_E',\n",
      " '185.172.148.128': 'eu',\n",
      " '185.172.148.132': 'eu',\n",
      " '185.172.149.128': 'eu_nl',\n",
      " '185.172.149.132': 'eu_nl',\n",
      " '62.210.90.237': 'eu_fr',\n",
      " '62.210.90.238': 'eu_fr',\n",
      " '68.70.192.128': 'eu_uk',\n",
      " '82.102.17.19': 'eu_SW',\n",
      " '87.249.130.6': 'sa',\n",
      " '89.187.160.25': 'apac',\n",
      " '89.187.160.31': 'apac'}\n"
     ]
    }
   ],
   "source": [
    "ips = {}\n",
    "with open('/Users/ross/octodns/octodns-ns1/config/ordering.com.yaml') as fh:\n",
    "    data = safe_load(fh)\n",
    "    for name, pool in data['cdn-dev'][0]['dynamic']['pools'].items():\n",
    "        for value in pool['values']:\n",
    "            ips[value['value']] = name\n",
    "pprint(ips)"
   ]
  },
  {
   "cell_type": "code",
   "execution_count": 37,
   "id": "8786cf52-32bb-4fc5-a245-63b0274468f1",
   "metadata": {
    "tags": []
   },
   "outputs": [],
   "source": [
    "main_answers = defaultdict(set)\n",
    "for result in main_results:\n",
    "    probe_id = result['prb_id']\n",
    "    probe_ids.append(probe_id)\n",
    "    probe_location = ripe.probe(probe_id)['country_code']\n",
    "    try:\n",
    "        abuf = result['result']['abuf']\n",
    "    except KeyError:\n",
    "        continue\n",
    "    for rr in DNSRecord.parse(b64decode(abuf)).rr:\n",
    "        answer = str(rr.rdata)\n",
    "        try:\n",
    "            pool = ips[answer]\n",
    "        except KeyError:\n",
    "            pool = 'unknown'\n",
    "        main_answers[probe_location].add(pool)"
   ]
  },
  {
   "cell_type": "code",
   "execution_count": 38,
   "id": "37fc89c0-04f2-40c6-afd1-ded036d37677",
   "metadata": {
    "tags": []
   },
   "outputs": [],
   "source": [
    "pr_answers = defaultdict(set)\n",
    "for result in pr_results:\n",
    "    probe_id = result['prb_id']\n",
    "    probe_ids.append(probe_id)\n",
    "    probe_location = ripe.probe(probe_id)['country_code']\n",
    "    try:\n",
    "        abuf = result['result']['abuf']\n",
    "    except KeyError:\n",
    "        continue\n",
    "    for rr in DNSRecord.parse(b64decode(abuf)).rr:\n",
    "        answer = str(rr.rdata)\n",
    "        try:\n",
    "            pool = ips[answer]\n",
    "        except KeyError:\n",
    "            pool = 'unknown'\n",
    "        pr_answers[probe_location].add(pool)"
   ]
  },
  {
   "cell_type": "code",
   "execution_count": 39,
   "id": "728974e5-9db2-4572-9ba9-70251cedf841",
   "metadata": {
    "tags": []
   },
   "outputs": [
    {
     "name": "stdout",
     "output_type": "stream",
     "text": [
      "IR\n",
      "  apac\n",
      "  ocean,apac\n",
      "AU\n",
      "  apac\n",
      "  ocean\n",
      "NZ\n",
      "  apac\n",
      "  ocean\n"
     ]
    }
   ],
   "source": [
    "for loc, main_pool in main_answers.items():\n",
    "    pr_pool = pr_answers[loc]\n",
    "    if main_pool != pr_pool:\n",
    "        print(loc)\n",
    "        print(f'  {\",\".join(main_pool)}')\n",
    "        print(f'  {\",\".join(pr_pool)}')"
   ]
  },
  {
   "cell_type": "code",
   "execution_count": null,
   "id": "caf787bb-8950-4e62-8c87-b06885dd8439",
   "metadata": {},
   "outputs": [],
   "source": []
  }
 ],
 "metadata": {
  "kernelspec": {
   "display_name": "Python 3 (ipykernel)",
   "language": "python",
   "name": "python3"
  },
  "language_info": {
   "codemirror_mode": {
    "name": "ipython",
    "version": 3
   },
   "file_extension": ".py",
   "mimetype": "text/x-python",
   "name": "python",
   "nbconvert_exporter": "python",
   "pygments_lexer": "ipython3",
   "version": "3.11.2"
  }
 },
 "nbformat": 4,
 "nbformat_minor": 5
}
